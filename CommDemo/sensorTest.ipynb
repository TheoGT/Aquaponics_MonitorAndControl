{
 "cells": [
  {
   "cell_type": "code",
   "execution_count": 6,
   "metadata": {},
   "outputs": [],
   "source": [
    "import serial"
   ]
  },
  {
   "cell_type": "code",
   "execution_count": null,
   "metadata": {},
   "outputs": [],
   "source": [
    "import serial\n",
    "from datetime import datetime\n",
    "\n",
    "port = \"COM3\"   #port name, probably COM4 on window\n",
    "f = open('numPress.txt', 'w');\n",
    "\n",
    "ard = serial.Serial(port, 115200)     #9600 open on arduio\n",
    "count = 0\n",
    "\n",
    "while count<100:\n",
    "    byte = ard.readline()           #reads byte code ending in line-terminator\n",
    "    msg = byte.decode(\"utf-8\")      #Convert to string\n",
    "    time = datetime.now()\n",
    "    f.write(str(time) + \": Sensor recorded \" + str(byte) + '\\n')\n",
    "    count+=1\n",
    "    \n",
    "    \n",
    "\n",
    "\"\"\"\n",
    "    if(count == 10):\n",
    "        ard.close()                 #Reset string to close port\n",
    "        f.write('The number of count is ' + str(count) + '\\n')\n",
    "        break\n",
    "\"\"\"\n"
   ]
  },
  {
   "cell_type": "code",
   "execution_count": null,
   "metadata": {},
   "outputs": [],
   "source": []
  }
 ],
 "metadata": {
  "kernelspec": {
   "display_name": "Python 3",
   "language": "python",
   "name": "python3"
  }
 },
 "nbformat": 4,
 "nbformat_minor": 4
}
